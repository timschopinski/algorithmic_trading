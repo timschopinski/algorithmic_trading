{
 "cells": [
  {
   "cell_type": "markdown",
   "id": "56a7db59",
   "metadata": {},
   "source": [
    "# A Long-Short Price & Volume Strategy"
   ]
  },
  {
   "cell_type": "markdown",
   "id": "774f8c6d",
   "metadata": {},
   "source": [
    "## Getting the data"
   ]
  },
  {
   "cell_type": "code",
   "execution_count": 1,
   "id": "e4434faf",
   "metadata": {},
   "outputs": [],
   "source": [
    "import pandas as pd\n",
    "import numpy as np\n",
    "import matplotlib.pyplot as plt\n",
    "import warnings\n",
    "plt.style.use(\"seaborn\")\n",
    "warnings.filterwarnings(\"ignore\")"
   ]
  },
  {
   "cell_type": "code",
   "execution_count": 2,
   "id": "d6f10acc",
   "metadata": {},
   "outputs": [
    {
     "data": {
      "text/plain": "                         Open      High       Low     Close       Volume\nDate                                                                    \n2017-08-17 04:00:00   4261.48   4313.62   4261.32   4308.83    47.181009\n2017-08-17 05:00:00   4308.83   4328.69   4291.37   4315.32    23.234916\n2017-08-17 06:00:00   4330.29   4345.45   4309.37   4324.35     7.229691\n2017-08-17 07:00:00   4316.62   4349.99   4287.41   4349.99     4.443249\n2017-08-17 08:00:00   4333.32   4377.85   4333.32   4360.69     0.972807\n...                       ...       ...       ...       ...          ...\n2021-10-07 05:00:00  55073.20  55073.21  54545.07  54735.76  2251.122020\n2021-10-07 06:00:00  54735.77  54968.06  54375.83  54534.16  1783.004260\n2021-10-07 07:00:00  54534.16  54793.26  54235.33  54755.92  4163.431360\n2021-10-07 08:00:00  54755.91  54778.91  54400.00  54538.30  2049.382180\n2021-10-07 09:00:00  54538.31  54547.30  53786.13  53995.50  2739.153610\n\n[36168 rows x 5 columns]",
      "text/html": "<div>\n<style scoped>\n    .dataframe tbody tr th:only-of-type {\n        vertical-align: middle;\n    }\n\n    .dataframe tbody tr th {\n        vertical-align: top;\n    }\n\n    .dataframe thead th {\n        text-align: right;\n    }\n</style>\n<table border=\"1\" class=\"dataframe\">\n  <thead>\n    <tr style=\"text-align: right;\">\n      <th></th>\n      <th>Open</th>\n      <th>High</th>\n      <th>Low</th>\n      <th>Close</th>\n      <th>Volume</th>\n    </tr>\n    <tr>\n      <th>Date</th>\n      <th></th>\n      <th></th>\n      <th></th>\n      <th></th>\n      <th></th>\n    </tr>\n  </thead>\n  <tbody>\n    <tr>\n      <th>2017-08-17 04:00:00</th>\n      <td>4261.48</td>\n      <td>4313.62</td>\n      <td>4261.32</td>\n      <td>4308.83</td>\n      <td>47.181009</td>\n    </tr>\n    <tr>\n      <th>2017-08-17 05:00:00</th>\n      <td>4308.83</td>\n      <td>4328.69</td>\n      <td>4291.37</td>\n      <td>4315.32</td>\n      <td>23.234916</td>\n    </tr>\n    <tr>\n      <th>2017-08-17 06:00:00</th>\n      <td>4330.29</td>\n      <td>4345.45</td>\n      <td>4309.37</td>\n      <td>4324.35</td>\n      <td>7.229691</td>\n    </tr>\n    <tr>\n      <th>2017-08-17 07:00:00</th>\n      <td>4316.62</td>\n      <td>4349.99</td>\n      <td>4287.41</td>\n      <td>4349.99</td>\n      <td>4.443249</td>\n    </tr>\n    <tr>\n      <th>2017-08-17 08:00:00</th>\n      <td>4333.32</td>\n      <td>4377.85</td>\n      <td>4333.32</td>\n      <td>4360.69</td>\n      <td>0.972807</td>\n    </tr>\n    <tr>\n      <th>...</th>\n      <td>...</td>\n      <td>...</td>\n      <td>...</td>\n      <td>...</td>\n      <td>...</td>\n    </tr>\n    <tr>\n      <th>2021-10-07 05:00:00</th>\n      <td>55073.20</td>\n      <td>55073.21</td>\n      <td>54545.07</td>\n      <td>54735.76</td>\n      <td>2251.122020</td>\n    </tr>\n    <tr>\n      <th>2021-10-07 06:00:00</th>\n      <td>54735.77</td>\n      <td>54968.06</td>\n      <td>54375.83</td>\n      <td>54534.16</td>\n      <td>1783.004260</td>\n    </tr>\n    <tr>\n      <th>2021-10-07 07:00:00</th>\n      <td>54534.16</td>\n      <td>54793.26</td>\n      <td>54235.33</td>\n      <td>54755.92</td>\n      <td>4163.431360</td>\n    </tr>\n    <tr>\n      <th>2021-10-07 08:00:00</th>\n      <td>54755.91</td>\n      <td>54778.91</td>\n      <td>54400.00</td>\n      <td>54538.30</td>\n      <td>2049.382180</td>\n    </tr>\n    <tr>\n      <th>2021-10-07 09:00:00</th>\n      <td>54538.31</td>\n      <td>54547.30</td>\n      <td>53786.13</td>\n      <td>53995.50</td>\n      <td>2739.153610</td>\n    </tr>\n  </tbody>\n</table>\n<p>36168 rows × 5 columns</p>\n</div>"
     },
     "execution_count": 2,
     "metadata": {},
     "output_type": "execute_result"
    }
   ],
   "source": [
    "data = pd.read_csv(\"bitcoin.csv\", parse_dates = [\"Date\"], index_col = \"Date\")\n",
    "data"
   ]
  },
  {
   "cell_type": "code",
   "execution_count": 3,
   "id": "7b241f1a",
   "metadata": {},
   "outputs": [
    {
     "name": "stdout",
     "output_type": "stream",
     "text": [
      "<class 'pandas.core.frame.DataFrame'>\n",
      "DatetimeIndex: 36168 entries, 2017-08-17 04:00:00 to 2021-10-07 09:00:00\n",
      "Data columns (total 5 columns):\n",
      " #   Column  Non-Null Count  Dtype  \n",
      "---  ------  --------------  -----  \n",
      " 0   Open    36168 non-null  float64\n",
      " 1   High    36168 non-null  float64\n",
      " 2   Low     36168 non-null  float64\n",
      " 3   Close   36168 non-null  float64\n",
      " 4   Volume  36168 non-null  float64\n",
      "dtypes: float64(5)\n",
      "memory usage: 1.7 MB\n"
     ]
    }
   ],
   "source": [
    "data.info()"
   ]
  },
  {
   "cell_type": "code",
   "execution_count": 4,
   "id": "23d89c1a",
   "metadata": {},
   "outputs": [],
   "source": [
    "data = data[[\"Close\", \"Volume\"]].copy()"
   ]
  },
  {
   "cell_type": "code",
   "execution_count": 5,
   "id": "1000b40e",
   "metadata": {},
   "outputs": [
    {
     "data": {
      "text/plain": "                        Close       Volume\nDate                                      \n2017-08-17 04:00:00   4308.83    47.181009\n2017-08-17 05:00:00   4315.32    23.234916\n2017-08-17 06:00:00   4324.35     7.229691\n2017-08-17 07:00:00   4349.99     4.443249\n2017-08-17 08:00:00   4360.69     0.972807\n...                       ...          ...\n2021-10-07 05:00:00  54735.76  2251.122020\n2021-10-07 06:00:00  54534.16  1783.004260\n2021-10-07 07:00:00  54755.92  4163.431360\n2021-10-07 08:00:00  54538.30  2049.382180\n2021-10-07 09:00:00  53995.50  2739.153610\n\n[36168 rows x 2 columns]",
      "text/html": "<div>\n<style scoped>\n    .dataframe tbody tr th:only-of-type {\n        vertical-align: middle;\n    }\n\n    .dataframe tbody tr th {\n        vertical-align: top;\n    }\n\n    .dataframe thead th {\n        text-align: right;\n    }\n</style>\n<table border=\"1\" class=\"dataframe\">\n  <thead>\n    <tr style=\"text-align: right;\">\n      <th></th>\n      <th>Close</th>\n      <th>Volume</th>\n    </tr>\n    <tr>\n      <th>Date</th>\n      <th></th>\n      <th></th>\n    </tr>\n  </thead>\n  <tbody>\n    <tr>\n      <th>2017-08-17 04:00:00</th>\n      <td>4308.83</td>\n      <td>47.181009</td>\n    </tr>\n    <tr>\n      <th>2017-08-17 05:00:00</th>\n      <td>4315.32</td>\n      <td>23.234916</td>\n    </tr>\n    <tr>\n      <th>2017-08-17 06:00:00</th>\n      <td>4324.35</td>\n      <td>7.229691</td>\n    </tr>\n    <tr>\n      <th>2017-08-17 07:00:00</th>\n      <td>4349.99</td>\n      <td>4.443249</td>\n    </tr>\n    <tr>\n      <th>2017-08-17 08:00:00</th>\n      <td>4360.69</td>\n      <td>0.972807</td>\n    </tr>\n    <tr>\n      <th>...</th>\n      <td>...</td>\n      <td>...</td>\n    </tr>\n    <tr>\n      <th>2021-10-07 05:00:00</th>\n      <td>54735.76</td>\n      <td>2251.122020</td>\n    </tr>\n    <tr>\n      <th>2021-10-07 06:00:00</th>\n      <td>54534.16</td>\n      <td>1783.004260</td>\n    </tr>\n    <tr>\n      <th>2021-10-07 07:00:00</th>\n      <td>54755.92</td>\n      <td>4163.431360</td>\n    </tr>\n    <tr>\n      <th>2021-10-07 08:00:00</th>\n      <td>54538.30</td>\n      <td>2049.382180</td>\n    </tr>\n    <tr>\n      <th>2021-10-07 09:00:00</th>\n      <td>53995.50</td>\n      <td>2739.153610</td>\n    </tr>\n  </tbody>\n</table>\n<p>36168 rows × 2 columns</p>\n</div>"
     },
     "execution_count": 5,
     "metadata": {},
     "output_type": "execute_result"
    }
   ],
   "source": [
    "data"
   ]
  },
  {
   "cell_type": "code",
   "execution_count": 6,
   "id": "7839c839",
   "metadata": {},
   "outputs": [],
   "source": [
    "data[\"returns\"] = np.log(data.Close.div(data.Close.shift(1)))\n",
    "data[\"vol_ch\"] = np.log(data.Volume.div(data.Volume.shift(1)))"
   ]
  },
  {
   "cell_type": "code",
   "execution_count": 7,
   "id": "e9abdc47",
   "metadata": {},
   "outputs": [],
   "source": [
    "data.loc[data.vol_ch > 3, \"vol_ch\"] = np.nan\n",
    "data.loc[data.vol_ch < -3, \"vol_ch\"] = np.nan"
   ]
  },
  {
   "cell_type": "code",
   "execution_count": 8,
   "id": "2871e084",
   "metadata": {},
   "outputs": [
    {
     "data": {
      "text/plain": "                        Close       Volume   returns    vol_ch\nDate                                                          \n2017-08-17 04:00:00   4308.83    47.181009       NaN       NaN\n2017-08-17 05:00:00   4315.32    23.234916  0.001505 -0.708335\n2017-08-17 06:00:00   4324.35     7.229691  0.002090 -1.167460\n2017-08-17 07:00:00   4349.99     4.443249  0.005912 -0.486810\n2017-08-17 08:00:00   4360.69     0.972807  0.002457 -1.518955\n...                       ...          ...       ...       ...\n2021-10-07 05:00:00  54735.76  2251.122020 -0.006146  0.439863\n2021-10-07 06:00:00  54534.16  1783.004260 -0.003690 -0.233129\n2021-10-07 07:00:00  54755.92  4163.431360  0.004058  0.848040\n2021-10-07 08:00:00  54538.30  2049.382180 -0.003982 -0.708801\n2021-10-07 09:00:00  53995.50  2739.153610 -0.010002  0.290111\n\n[36168 rows x 4 columns]",
      "text/html": "<div>\n<style scoped>\n    .dataframe tbody tr th:only-of-type {\n        vertical-align: middle;\n    }\n\n    .dataframe tbody tr th {\n        vertical-align: top;\n    }\n\n    .dataframe thead th {\n        text-align: right;\n    }\n</style>\n<table border=\"1\" class=\"dataframe\">\n  <thead>\n    <tr style=\"text-align: right;\">\n      <th></th>\n      <th>Close</th>\n      <th>Volume</th>\n      <th>returns</th>\n      <th>vol_ch</th>\n    </tr>\n    <tr>\n      <th>Date</th>\n      <th></th>\n      <th></th>\n      <th></th>\n      <th></th>\n    </tr>\n  </thead>\n  <tbody>\n    <tr>\n      <th>2017-08-17 04:00:00</th>\n      <td>4308.83</td>\n      <td>47.181009</td>\n      <td>NaN</td>\n      <td>NaN</td>\n    </tr>\n    <tr>\n      <th>2017-08-17 05:00:00</th>\n      <td>4315.32</td>\n      <td>23.234916</td>\n      <td>0.001505</td>\n      <td>-0.708335</td>\n    </tr>\n    <tr>\n      <th>2017-08-17 06:00:00</th>\n      <td>4324.35</td>\n      <td>7.229691</td>\n      <td>0.002090</td>\n      <td>-1.167460</td>\n    </tr>\n    <tr>\n      <th>2017-08-17 07:00:00</th>\n      <td>4349.99</td>\n      <td>4.443249</td>\n      <td>0.005912</td>\n      <td>-0.486810</td>\n    </tr>\n    <tr>\n      <th>2017-08-17 08:00:00</th>\n      <td>4360.69</td>\n      <td>0.972807</td>\n      <td>0.002457</td>\n      <td>-1.518955</td>\n    </tr>\n    <tr>\n      <th>...</th>\n      <td>...</td>\n      <td>...</td>\n      <td>...</td>\n      <td>...</td>\n    </tr>\n    <tr>\n      <th>2021-10-07 05:00:00</th>\n      <td>54735.76</td>\n      <td>2251.122020</td>\n      <td>-0.006146</td>\n      <td>0.439863</td>\n    </tr>\n    <tr>\n      <th>2021-10-07 06:00:00</th>\n      <td>54534.16</td>\n      <td>1783.004260</td>\n      <td>-0.003690</td>\n      <td>-0.233129</td>\n    </tr>\n    <tr>\n      <th>2021-10-07 07:00:00</th>\n      <td>54755.92</td>\n      <td>4163.431360</td>\n      <td>0.004058</td>\n      <td>0.848040</td>\n    </tr>\n    <tr>\n      <th>2021-10-07 08:00:00</th>\n      <td>54538.30</td>\n      <td>2049.382180</td>\n      <td>-0.003982</td>\n      <td>-0.708801</td>\n    </tr>\n    <tr>\n      <th>2021-10-07 09:00:00</th>\n      <td>53995.50</td>\n      <td>2739.153610</td>\n      <td>-0.010002</td>\n      <td>0.290111</td>\n    </tr>\n  </tbody>\n</table>\n<p>36168 rows × 4 columns</p>\n</div>"
     },
     "execution_count": 8,
     "metadata": {},
     "output_type": "execute_result"
    }
   ],
   "source": [
    "data"
   ]
  },
  {
   "cell_type": "code",
   "execution_count": 9,
   "id": "72ba2233",
   "metadata": {},
   "outputs": [
    {
     "name": "stdout",
     "output_type": "stream",
     "text": [
      "<class 'pandas.core.frame.DataFrame'>\n",
      "DatetimeIndex: 36168 entries, 2017-08-17 04:00:00 to 2021-10-07 09:00:00\n",
      "Data columns (total 4 columns):\n",
      " #   Column   Non-Null Count  Dtype  \n",
      "---  ------   --------------  -----  \n",
      " 0   Close    36168 non-null  float64\n",
      " 1   Volume   36168 non-null  float64\n",
      " 2   returns  36167 non-null  float64\n",
      " 3   vol_ch   36150 non-null  float64\n",
      "dtypes: float64(4)\n",
      "memory usage: 1.4 MB\n"
     ]
    }
   ],
   "source": [
    "data.info()"
   ]
  },
  {
   "cell_type": "code",
   "execution_count": null,
   "id": "c779be26",
   "metadata": {},
   "outputs": [],
   "source": []
  },
  {
   "cell_type": "markdown",
   "id": "e9770942",
   "metadata": {},
   "source": [
    "## Formulating a Long-Short Price/Volume Trading Strategy"
   ]
  },
  {
   "cell_type": "code",
   "execution_count": 10,
   "id": "a49ec2e7",
   "metadata": {},
   "outputs": [
    {
     "data": {
      "text/plain": "                        Close       Volume   returns    vol_ch\nDate                                                          \n2017-08-17 04:00:00   4308.83    47.181009       NaN       NaN\n2017-08-17 05:00:00   4315.32    23.234916  0.001505 -0.708335\n2017-08-17 06:00:00   4324.35     7.229691  0.002090 -1.167460\n2017-08-17 07:00:00   4349.99     4.443249  0.005912 -0.486810\n2017-08-17 08:00:00   4360.69     0.972807  0.002457 -1.518955\n...                       ...          ...       ...       ...\n2021-10-07 05:00:00  54735.76  2251.122020 -0.006146  0.439863\n2021-10-07 06:00:00  54534.16  1783.004260 -0.003690 -0.233129\n2021-10-07 07:00:00  54755.92  4163.431360  0.004058  0.848040\n2021-10-07 08:00:00  54538.30  2049.382180 -0.003982 -0.708801\n2021-10-07 09:00:00  53995.50  2739.153610 -0.010002  0.290111\n\n[36168 rows x 4 columns]",
      "text/html": "<div>\n<style scoped>\n    .dataframe tbody tr th:only-of-type {\n        vertical-align: middle;\n    }\n\n    .dataframe tbody tr th {\n        vertical-align: top;\n    }\n\n    .dataframe thead th {\n        text-align: right;\n    }\n</style>\n<table border=\"1\" class=\"dataframe\">\n  <thead>\n    <tr style=\"text-align: right;\">\n      <th></th>\n      <th>Close</th>\n      <th>Volume</th>\n      <th>returns</th>\n      <th>vol_ch</th>\n    </tr>\n    <tr>\n      <th>Date</th>\n      <th></th>\n      <th></th>\n      <th></th>\n      <th></th>\n    </tr>\n  </thead>\n  <tbody>\n    <tr>\n      <th>2017-08-17 04:00:00</th>\n      <td>4308.83</td>\n      <td>47.181009</td>\n      <td>NaN</td>\n      <td>NaN</td>\n    </tr>\n    <tr>\n      <th>2017-08-17 05:00:00</th>\n      <td>4315.32</td>\n      <td>23.234916</td>\n      <td>0.001505</td>\n      <td>-0.708335</td>\n    </tr>\n    <tr>\n      <th>2017-08-17 06:00:00</th>\n      <td>4324.35</td>\n      <td>7.229691</td>\n      <td>0.002090</td>\n      <td>-1.167460</td>\n    </tr>\n    <tr>\n      <th>2017-08-17 07:00:00</th>\n      <td>4349.99</td>\n      <td>4.443249</td>\n      <td>0.005912</td>\n      <td>-0.486810</td>\n    </tr>\n    <tr>\n      <th>2017-08-17 08:00:00</th>\n      <td>4360.69</td>\n      <td>0.972807</td>\n      <td>0.002457</td>\n      <td>-1.518955</td>\n    </tr>\n    <tr>\n      <th>...</th>\n      <td>...</td>\n      <td>...</td>\n      <td>...</td>\n      <td>...</td>\n    </tr>\n    <tr>\n      <th>2021-10-07 05:00:00</th>\n      <td>54735.76</td>\n      <td>2251.122020</td>\n      <td>-0.006146</td>\n      <td>0.439863</td>\n    </tr>\n    <tr>\n      <th>2021-10-07 06:00:00</th>\n      <td>54534.16</td>\n      <td>1783.004260</td>\n      <td>-0.003690</td>\n      <td>-0.233129</td>\n    </tr>\n    <tr>\n      <th>2021-10-07 07:00:00</th>\n      <td>54755.92</td>\n      <td>4163.431360</td>\n      <td>0.004058</td>\n      <td>0.848040</td>\n    </tr>\n    <tr>\n      <th>2021-10-07 08:00:00</th>\n      <td>54538.30</td>\n      <td>2049.382180</td>\n      <td>-0.003982</td>\n      <td>-0.708801</td>\n    </tr>\n    <tr>\n      <th>2021-10-07 09:00:00</th>\n      <td>53995.50</td>\n      <td>2739.153610</td>\n      <td>-0.010002</td>\n      <td>0.290111</td>\n    </tr>\n  </tbody>\n</table>\n<p>36168 rows × 4 columns</p>\n</div>"
     },
     "execution_count": 10,
     "metadata": {},
     "output_type": "execute_result"
    }
   ],
   "source": [
    "data"
   ]
  },
  {
   "cell_type": "code",
   "execution_count": 11,
   "id": "365ad118",
   "metadata": {},
   "outputs": [
    {
     "data": {
      "text/plain": "                        Close       Volume   returns    vol_ch  position\nDate                                                                    \n2017-08-17 04:00:00   4308.83    47.181009       NaN       NaN         0\n2017-08-17 05:00:00   4315.32    23.234916  0.001505 -0.708335         0\n2017-08-17 06:00:00   4324.35     7.229691  0.002090 -1.167460         0\n2017-08-17 07:00:00   4349.99     4.443249  0.005912 -0.486810         0\n2017-08-17 08:00:00   4360.69     0.972807  0.002457 -1.518955         0\n...                       ...          ...       ...       ...       ...\n2021-10-07 05:00:00  54735.76  2251.122020 -0.006146  0.439863         0\n2021-10-07 06:00:00  54534.16  1783.004260 -0.003690 -0.233129         0\n2021-10-07 07:00:00  54755.92  4163.431360  0.004058  0.848040         0\n2021-10-07 08:00:00  54538.30  2049.382180 -0.003982 -0.708801         0\n2021-10-07 09:00:00  53995.50  2739.153610 -0.010002  0.290111         0\n\n[36168 rows x 5 columns]",
      "text/html": "<div>\n<style scoped>\n    .dataframe tbody tr th:only-of-type {\n        vertical-align: middle;\n    }\n\n    .dataframe tbody tr th {\n        vertical-align: top;\n    }\n\n    .dataframe thead th {\n        text-align: right;\n    }\n</style>\n<table border=\"1\" class=\"dataframe\">\n  <thead>\n    <tr style=\"text-align: right;\">\n      <th></th>\n      <th>Close</th>\n      <th>Volume</th>\n      <th>returns</th>\n      <th>vol_ch</th>\n      <th>position</th>\n    </tr>\n    <tr>\n      <th>Date</th>\n      <th></th>\n      <th></th>\n      <th></th>\n      <th></th>\n      <th></th>\n    </tr>\n  </thead>\n  <tbody>\n    <tr>\n      <th>2017-08-17 04:00:00</th>\n      <td>4308.83</td>\n      <td>47.181009</td>\n      <td>NaN</td>\n      <td>NaN</td>\n      <td>0</td>\n    </tr>\n    <tr>\n      <th>2017-08-17 05:00:00</th>\n      <td>4315.32</td>\n      <td>23.234916</td>\n      <td>0.001505</td>\n      <td>-0.708335</td>\n      <td>0</td>\n    </tr>\n    <tr>\n      <th>2017-08-17 06:00:00</th>\n      <td>4324.35</td>\n      <td>7.229691</td>\n      <td>0.002090</td>\n      <td>-1.167460</td>\n      <td>0</td>\n    </tr>\n    <tr>\n      <th>2017-08-17 07:00:00</th>\n      <td>4349.99</td>\n      <td>4.443249</td>\n      <td>0.005912</td>\n      <td>-0.486810</td>\n      <td>0</td>\n    </tr>\n    <tr>\n      <th>2017-08-17 08:00:00</th>\n      <td>4360.69</td>\n      <td>0.972807</td>\n      <td>0.002457</td>\n      <td>-1.518955</td>\n      <td>0</td>\n    </tr>\n    <tr>\n      <th>...</th>\n      <td>...</td>\n      <td>...</td>\n      <td>...</td>\n      <td>...</td>\n      <td>...</td>\n    </tr>\n    <tr>\n      <th>2021-10-07 05:00:00</th>\n      <td>54735.76</td>\n      <td>2251.122020</td>\n      <td>-0.006146</td>\n      <td>0.439863</td>\n      <td>0</td>\n    </tr>\n    <tr>\n      <th>2021-10-07 06:00:00</th>\n      <td>54534.16</td>\n      <td>1783.004260</td>\n      <td>-0.003690</td>\n      <td>-0.233129</td>\n      <td>0</td>\n    </tr>\n    <tr>\n      <th>2021-10-07 07:00:00</th>\n      <td>54755.92</td>\n      <td>4163.431360</td>\n      <td>0.004058</td>\n      <td>0.848040</td>\n      <td>0</td>\n    </tr>\n    <tr>\n      <th>2021-10-07 08:00:00</th>\n      <td>54538.30</td>\n      <td>2049.382180</td>\n      <td>-0.003982</td>\n      <td>-0.708801</td>\n      <td>0</td>\n    </tr>\n    <tr>\n      <th>2021-10-07 09:00:00</th>\n      <td>53995.50</td>\n      <td>2739.153610</td>\n      <td>-0.010002</td>\n      <td>0.290111</td>\n      <td>0</td>\n    </tr>\n  </tbody>\n</table>\n<p>36168 rows × 5 columns</p>\n</div>"
     },
     "execution_count": 11,
     "metadata": {},
     "output_type": "execute_result"
    }
   ],
   "source": [
    "data[\"position\"] = 0 # Trading position -> Neutral for all bars\n",
    "data"
   ]
  },
  {
   "cell_type": "markdown",
   "id": "78f2f26e",
   "metadata": {},
   "source": [
    "__Buy and go Long (position = 1) if most recent returns are highly negative (cond1) and trading volume decreased (cond2)__"
   ]
  },
  {
   "cell_type": "code",
   "execution_count": 12,
   "id": "774080e6",
   "metadata": {},
   "outputs": [
    {
     "data": {
      "text/plain": "-0.007813258140358005"
     },
     "execution_count": 12,
     "metadata": {},
     "output_type": "execute_result"
    }
   ],
   "source": [
    "# getting returns threshold for highly negative returns (<= 10th percentile)\n",
    "return_thresh = np.percentile(data.returns.dropna(), 10)\n",
    "return_thresh"
   ]
  },
  {
   "cell_type": "code",
   "execution_count": 13,
   "id": "41ef710e",
   "metadata": {},
   "outputs": [
    {
     "data": {
      "text/plain": "Date\n2017-08-17 04:00:00    False\n2017-08-17 05:00:00    False\n2017-08-17 06:00:00    False\n2017-08-17 07:00:00    False\n2017-08-17 08:00:00    False\n                       ...  \n2021-10-07 05:00:00    False\n2021-10-07 06:00:00    False\n2021-10-07 07:00:00    False\n2021-10-07 08:00:00    False\n2021-10-07 09:00:00     True\nName: returns, Length: 36168, dtype: bool"
     },
     "execution_count": 13,
     "metadata": {},
     "output_type": "execute_result"
    }
   ],
   "source": [
    "cond1 = data.returns <= return_thresh\n",
    "cond1"
   ]
  },
  {
   "cell_type": "code",
   "execution_count": 14,
   "id": "0489c7b2",
   "metadata": {},
   "outputs": [
    {
     "data": {
      "text/plain": "array([-0.72895253, -0.37604441])"
     },
     "execution_count": 14,
     "metadata": {},
     "output_type": "execute_result"
    }
   ],
   "source": [
    "# getting vol_ch thresholds for (moderate) Volume Decreases (between 5th and 20th percentile)\n",
    "volume_thresh = np.percentile(data.vol_ch.dropna(), [5, 20])\n",
    "volume_thresh"
   ]
  },
  {
   "cell_type": "code",
   "execution_count": 15,
   "id": "8a7dc27a",
   "metadata": {},
   "outputs": [
    {
     "data": {
      "text/plain": "Date\n2017-08-17 04:00:00    False\n2017-08-17 05:00:00     True\n2017-08-17 06:00:00    False\n2017-08-17 07:00:00     True\n2017-08-17 08:00:00    False\n                       ...  \n2021-10-07 05:00:00    False\n2021-10-07 06:00:00    False\n2021-10-07 07:00:00    False\n2021-10-07 08:00:00     True\n2021-10-07 09:00:00    False\nName: vol_ch, Length: 36168, dtype: bool"
     },
     "execution_count": 15,
     "metadata": {},
     "output_type": "execute_result"
    }
   ],
   "source": [
    "cond2 = data.vol_ch.between(volume_thresh[0], volume_thresh[1])\n",
    "cond2"
   ]
  },
  {
   "cell_type": "code",
   "execution_count": 16,
   "id": "053216ff",
   "metadata": {},
   "outputs": [],
   "source": [
    "data.loc[cond1 & cond2, \"position\"] = 1"
   ]
  },
  {
   "cell_type": "markdown",
   "id": "b1387eea",
   "metadata": {},
   "source": [
    "__Sell and go Short (position = -1) if most recent returns are highly positive (cond3) and trading volume decreased (cond2)__"
   ]
  },
  {
   "cell_type": "code",
   "execution_count": 17,
   "id": "ec3bed16",
   "metadata": {},
   "outputs": [
    {
     "data": {
      "text/plain": "0.008231867023808183"
     },
     "execution_count": 17,
     "metadata": {},
     "output_type": "execute_result"
    }
   ],
   "source": [
    "# getting returns threshold for highly positve returns (>= 90th percentile)\n",
    "return_thresh = np.percentile(data.returns.dropna(), 90)\n",
    "return_thresh"
   ]
  },
  {
   "cell_type": "code",
   "execution_count": 18,
   "id": "9b9e159c",
   "metadata": {},
   "outputs": [
    {
     "data": {
      "text/plain": "Date\n2017-08-17 04:00:00    False\n2017-08-17 05:00:00    False\n2017-08-17 06:00:00    False\n2017-08-17 07:00:00    False\n2017-08-17 08:00:00    False\n                       ...  \n2021-10-07 05:00:00    False\n2021-10-07 06:00:00    False\n2021-10-07 07:00:00    False\n2021-10-07 08:00:00    False\n2021-10-07 09:00:00    False\nName: returns, Length: 36168, dtype: bool"
     },
     "execution_count": 18,
     "metadata": {},
     "output_type": "execute_result"
    }
   ],
   "source": [
    "cond3 = data.returns >= return_thresh\n",
    "cond3"
   ]
  },
  {
   "cell_type": "code",
   "execution_count": 19,
   "id": "af529a92",
   "metadata": {},
   "outputs": [],
   "source": [
    "data.loc[cond3 & cond2, \"position\"] = -1"
   ]
  },
  {
   "cell_type": "code",
   "execution_count": 20,
   "id": "a721eb1e",
   "metadata": {},
   "outputs": [
    {
     "data": {
      "text/plain": " 0    35526\n-1      364\n 1      278\nName: position, dtype: int64"
     },
     "execution_count": 20,
     "metadata": {},
     "output_type": "execute_result"
    }
   ],
   "source": [
    "data.position.value_counts()"
   ]
  },
  {
   "cell_type": "code",
   "execution_count": 21,
   "id": "82503331",
   "metadata": {},
   "outputs": [
    {
     "data": {
      "text/plain": "<Figure size 864x576 with 1 Axes>",
      "image/png": "[encoded data removed]"
     },
     "metadata": {},
     "output_type": "display_data"
    }
   ],
   "source": [
    "data.loc[\"06-2019\", \"position\"].plot(figsize = (12, 8))\n",
    "plt.show()"
   ]
  },
  {
   "cell_type": "code",
   "execution_count": 21,
   "id": "04d3ea07",
   "metadata": {},
   "outputs": [],
   "source": []
  },
  {
   "cell_type": "markdown",
   "id": "985ceb79",
   "metadata": {},
   "source": [
    "## A Long-Short Backtester Class"
   ]
  },
  {
   "cell_type": "code",
   "execution_count": 23,
   "id": "c96beabf",
   "metadata": {},
   "outputs": [],
   "source": [
    "import pandas as pd\n",
    "import numpy as np\n",
    "import matplotlib.pyplot as plt\n",
    "from itertools import product\n",
    "import warnings\n",
    "warnings.filterwarnings(\"ignore\")\n",
    "plt.style.use(\"seaborn\")"
   ]
  },
  {
   "cell_type": "markdown",
   "id": "58241ead",
   "metadata": {},
   "source": [
    "Major adjustments: \n",
    "- Different Strategy Definition with Short Positions (see method prepare_data)\n",
    "- Four Strategy Parameters (instead of three)"
   ]
  },
  {
   "cell_type": "code",
   "execution_count": 24,
   "id": "c63ebc74",
   "metadata": {},
   "outputs": [],
   "source": [
    "class Long_Short_Backtester():\n",
    "    ''' Class for the vectorized backtesting of simple Long-Short trading strategies.\n",
    "    \n",
    "    Attributes\n",
    "    ============\n",
    "    filepath: str\n",
    "        local filepath of the dataset (csv-file)\n",
    "    symbol: str\n",
    "        ticker symbol (instrument) to be backtested\n",
    "    start: str\n",
    "        start date for data import\n",
    "    end: str\n",
    "        end date for data import\n",
    "    tc: float\n",
    "        proportional trading costs per trade\n",
    "    \n",
    "    \n",
    "    Methods\n",
    "    =======\n",
    "    get_data:\n",
    "        imports the data.\n",
    "        \n",
    "    test_strategy:\n",
    "        prepares the data and backtests the trading strategy incl. reporting (wrapper).\n",
    "        \n",
    "    prepare_data:\n",
    "        prepares the data for backtesting.\n",
    "    \n",
    "    run_backtest:\n",
    "        runs the strategy backtest.\n",
    "        \n",
    "    plot_results:\n",
    "        plots the cumulative performance of the trading strategy compared to buy-and-hold.\n",
    "        \n",
    "    optimize_strategy:\n",
    "        backtests strategy for different parameter values incl. optimization and reporting (wrapper).\n",
    "    \n",
    "    find_best_strategy:\n",
    "        finds the optimal strategy (global maximum).\n",
    "         \n",
    "        \n",
    "    print_performance:\n",
    "        calculates and prints various performance metrics.\n",
    "        \n",
    "    '''    \n",
    "    \n",
    "    def __init__(self, filepath, symbol, start, end, tc):\n",
    "        \n",
    "        self.filepath = filepath\n",
    "        self.symbol = symbol\n",
    "        self.start = start\n",
    "        self.end = end\n",
    "        self.tc = tc\n",
    "        self.results = None\n",
    "        self.get_data()\n",
    "        self.tp_year = (self.data.Close.count() / ((self.data.index[-1] - self.data.index[0]).days / 365.25))\n",
    "        \n",
    "    def __repr__(self):\n",
    "        return \"Long_Short_Backtester(symbol = {}, start = {}, end = {})\".format(self.symbol, self.start, self.end)\n",
    "        \n",
    "    def get_data(self):\n",
    "        ''' Imports the data.\n",
    "        '''\n",
    "        raw = pd.read_csv(self.filepath, parse_dates = [\"Date\"], index_col = \"Date\")\n",
    "        raw = raw.loc[self.start:self.end].copy()\n",
    "        raw[\"returns\"] = np.log(raw.Close / raw.Close.shift(1))\n",
    "        self.data = raw\n",
    "        \n",
    "    def test_strategy(self, percentiles = None, thresh = None):\n",
    "        '''\n",
    "        Prepares the data and backtests the trading strategy incl. reporting (Wrapper).\n",
    "         \n",
    "        Parameters\n",
    "        ============\n",
    "        percentiles: tuple (return_low_perc, return_high_perc, vol_low_perc, vol_high_perc)\n",
    "            return and volume percentiles to be considered for the strategy.\n",
    "            \n",
    "        thresh: tuple (return_low_thresh, return_high_thresh, vol_low_thresh, vol_high_thesh)\n",
    "            return and volume thresholds to be considered for the strategy.\n",
    "        '''\n",
    "        \n",
    "        self.prepare_data(percentiles = percentiles, thresh = thresh)\n",
    "        self.run_backtest()\n",
    "        \n",
    "        data = self.results.copy()\n",
    "        data[\"creturns\"] = data[\"returns\"].cumsum().apply(np.exp)\n",
    "        data[\"cstrategy\"] = data[\"strategy\"].cumsum().apply(np.exp)\n",
    "        self.results = data\n",
    "        \n",
    "        self.print_performance()\n",
    "    \n",
    "    def prepare_data(self, percentiles, thresh):\n",
    "        ''' Prepares the Data for Backtesting.\n",
    "        '''\n",
    "        ########################## Strategy-Specific #############################\n",
    "        \n",
    "        data = self.data[[\"Close\", \"Volume\", \"returns\"]].copy()\n",
    "        data[\"vol_ch\"] = np.log(data.Volume.div(data.Volume.shift(1)))\n",
    "        data.loc[data.vol_ch > 3, \"vol_ch\"] = np.nan\n",
    "        data.loc[data.vol_ch < -3, \"vol_ch\"] = np.nan        \n",
    "        \n",
    "        if percentiles:\n",
    "            self.return_thresh = np.percentile(data.returns.dropna(), [percentiles[0], percentiles[1]])\n",
    "            self.volume_thresh = np.percentile(data.vol_ch.dropna(), [percentiles[2], percentiles[3]])\n",
    "        elif thresh:\n",
    "            self.return_thresh = [thresh[0], thresh[1]]\n",
    "            self.volume_thresh = [thresh[2], thresh[3]]\n",
    "                \n",
    "        cond1 = data.returns <= self.return_thresh[0]\n",
    "        cond2 = data.vol_ch.between(self.volume_thresh[0], self.volume_thresh[1])\n",
    "        cond3 = data.returns >= self.return_thresh[1]\n",
    "        \n",
    "        data[\"position\"] = 0\n",
    "        data.loc[cond1 & cond2, \"position\"] = 1\n",
    "        data.loc[cond3 & cond2, \"position\"] = -1\n",
    "\n",
    "        ##########################################################################\n",
    "        \n",
    "        self.results = data\n",
    "    \n",
    "    def run_backtest(self):\n",
    "        ''' Runs the strategy backtest.\n",
    "        '''\n",
    "        \n",
    "        data = self.results.copy()\n",
    "        data[\"strategy\"] = data[\"position\"].shift(1) * data[\"returns\"]\n",
    "        data[\"trades\"] = data.position.diff().fillna(0).abs()\n",
    "        data.strategy = data.strategy + data.trades * self.tc\n",
    "        \n",
    "        self.results = data\n",
    "    \n",
    "    def plot_results(self):\n",
    "        '''  Plots the cumulative performance of the trading strategy compared to buy-and-hold.\n",
    "        '''\n",
    "        if self.results is None:\n",
    "            print(\"Run test_strategy() first.\")\n",
    "        else:\n",
    "            title = \"{} | TC = {}\".format(self.symbol, self.tc)\n",
    "            self.results[[\"creturns\", \"cstrategy\"]].plot(title=title, figsize=(12, 8))\n",
    "            \n",
    "    def optimize_strategy(self, return_low_range, return_high_range, vol_low_range, vol_high_range, metric = \"Multiple\"):\n",
    "        '''\n",
    "        Backtests strategy for different parameter values incl. Optimization and Reporting (Wrapper).\n",
    "         \n",
    "        Parameters\n",
    "        ============\n",
    "        return_low_range: tuple\n",
    "            tuples of the form (start, end, step size).\n",
    "        \n",
    "        return_high_range: tuple\n",
    "            tuples of the form (start, end, step size).\n",
    "            \n",
    "        vol_low_range: tuple\n",
    "            tuples of the form (start, end, step size).\n",
    "        \n",
    "        vol_high_range: tuple\n",
    "            tuples of the form (start, end, step size).\n",
    "        \n",
    "        metric: str\n",
    "            performance metric to be optimized (can be \"Multiple\" or \"Sharpe\")\n",
    "        '''\n",
    "        \n",
    "        self.metric = metric\n",
    "        \n",
    "        if metric == \"Multiple\":\n",
    "            performance_function = self.calculate_multiple\n",
    "        elif metric == \"Sharpe\":\n",
    "            performance_function = self.calculate_sharpe\n",
    "        \n",
    "        return_low_range = range(*return_low_range)\n",
    "        return_high_range = range(*return_high_range)\n",
    "        vol_low_range = range(*vol_low_range)\n",
    "        vol_high_range = range(*vol_high_range)\n",
    "        \n",
    "        combinations = list(product(return_low_range, return_high_range, vol_low_range, vol_high_range))\n",
    "         \n",
    "        performance = []\n",
    "        for comb in combinations:\n",
    "            self.prepare_data(percentiles = comb, thresh = None)\n",
    "            self.run_backtest()\n",
    "            performance.append(performance_function(self.results.strategy))\n",
    "    \n",
    "        self.results_overview =  pd.DataFrame(data = np.array(combinations), columns = [\"return_low\", \"return_high\", \"vol_low\", \"vol_high\"])\n",
    "        self.results_overview[\"performance\"] = performance\n",
    "        self.find_best_strategy()\n",
    "        \n",
    "        \n",
    "    def find_best_strategy(self):\n",
    "        ''' Finds the optimal strategy (global maximum).\n",
    "        '''\n",
    "        \n",
    "        best = self.results_overview.nlargest(1, \"performance\")\n",
    "        return_perc = [best.return_low.iloc[0], best.return_high.iloc[0]]\n",
    "        vol_perc = [best.vol_low.iloc[0], best.vol_high.iloc[0]]\n",
    "        perf = best.performance.iloc[0]\n",
    "        print(\"Return_Perc: {} | Volume_Perc: {} | {}: {}\".format(return_perc, vol_perc, self.metric, round(perf, 5)))  \n",
    "        self.test_strategy(percentiles = (return_perc[0], return_perc[1], vol_perc[0], vol_perc[1]))\n",
    "            \n",
    "    ############################## Performance ######################################\n",
    "    \n",
    "    def print_performance(self):\n",
    "        ''' Calculates and prints various Performance Metrics.\n",
    "        '''\n",
    "        \n",
    "        data = self.results.copy()\n",
    "        strategy_multiple = round(self.calculate_multiple(data.strategy), 6)\n",
    "        bh_multiple =       round(self.calculate_multiple(data.returns), 6)\n",
    "        outperf =           round(strategy_multiple - bh_multiple, 6)\n",
    "        cagr =              round(self.calculate_cagr(data.strategy), 6)\n",
    "        ann_mean =          round(self.calculate_annualized_mean(data.strategy), 6)\n",
    "        ann_std =           round(self.calculate_annualized_std(data.strategy), 6)\n",
    "        sharpe =            round(self.calculate_sharpe(data.strategy), 6)\n",
    "       \n",
    "        print(100 * \"=\")\n",
    "        print(\"SIMPLE PRICE & VOLUME STRATEGY | INSTRUMENT = {} | THRESHOLDS = {}, {}\".format(self.symbol, np.round(self.return_thresh, 5), np.round(self.volume_thresh, 5)))\n",
    "        print(100 * \"-\")\n",
    "        print(\"PERFORMANCE MEASURES:\")\n",
    "        print(\"\\n\")\n",
    "        print(\"Multiple (Strategy):         {}\".format(strategy_multiple))\n",
    "        print(\"Multiple (Buy-and-Hold):     {}\".format(bh_multiple))\n",
    "        print(38 * \"-\")\n",
    "        print(\"Out-/Underperformance:       {}\".format(outperf))\n",
    "        print(\"\\n\")\n",
    "        print(\"CAGR:                        {}\".format(cagr))\n",
    "        print(\"Annualized Mean:             {}\".format(ann_mean))\n",
    "        print(\"Annualized Std:              {}\".format(ann_std))\n",
    "        print(\"Sharpe Ratio:                {}\".format(sharpe))\n",
    "        \n",
    "        print(100 * \"=\")\n",
    "        \n",
    "    def calculate_multiple(self, series):\n",
    "        return np.exp(series.sum())\n",
    "    \n",
    "    def calculate_cagr(self, series):\n",
    "        return np.exp(series.sum())**(1/((series.index[-1] - series.index[0]).days / 365.25)) - 1\n",
    "    \n",
    "    def calculate_annualized_mean(self, series):\n",
    "        return series.mean() * self.tp_year\n",
    "    \n",
    "    def calculate_annualized_std(self, series):\n",
    "        return series.std() * np.sqrt(self.tp_year)\n",
    "    \n",
    "    def calculate_sharpe(self, series):\n",
    "        if series.std() == 0:\n",
    "            return np.nan\n",
    "        else:\n",
    "            return self.calculate_cagr(series) / self.calculate_annualized_std(series)\n"
   ]
  },
  {
   "cell_type": "code",
   "execution_count": 25,
   "id": "16f4f69a",
   "metadata": {},
   "outputs": [],
   "source": [
    "filepath = \"bitcoin.csv\"\n",
    "symbol = \"BTCUSDT\"\n",
    "start = \"2017-08-17\"\n",
    "end = \"2021-10-07\"\n",
    "tc = -0.00085"
   ]
  },
  {
   "cell_type": "code",
   "execution_count": 26,
   "id": "084a7a98",
   "metadata": {},
   "outputs": [],
   "source": [
    "tester = Long_Short_Backtester(filepath = filepath, symbol = symbol,\n",
    "                              start = start, end = end, tc = tc)"
   ]
  },
  {
   "cell_type": "code",
   "execution_count": 27,
   "id": "67c0dea3",
   "metadata": {},
   "outputs": [
    {
     "data": {
      "text/plain": "Long_Short_Backtester(symbol = BTCUSDT, start = 2017-08-17, end = 2021-10-07)"
     },
     "execution_count": 27,
     "metadata": {},
     "output_type": "execute_result"
    }
   ],
   "source": [
    "tester"
   ]
  },
  {
   "cell_type": "code",
   "execution_count": 28,
   "id": "cd0b4776",
   "metadata": {},
   "outputs": [
    {
     "data": {
      "text/plain": "                         Open      High       Low     Close       Volume  \\\nDate                                                                       \n2017-08-17 04:00:00   4261.48   4313.62   4261.32   4308.83    47.181009   \n2017-08-17 05:00:00   4308.83   4328.69   4291.37   4315.32    23.234916   \n2017-08-17 06:00:00   4330.29   4345.45   4309.37   4324.35     7.229691   \n2017-08-17 07:00:00   4316.62   4349.99   4287.41   4349.99     4.443249   \n2017-08-17 08:00:00   4333.32   4377.85   4333.32   4360.69     0.972807   \n...                       ...       ...       ...       ...          ...   \n2021-10-07 05:00:00  55073.20  55073.21  54545.07  54735.76  2251.122020   \n2021-10-07 06:00:00  54735.77  54968.06  54375.83  54534.16  1783.004260   \n2021-10-07 07:00:00  54534.16  54793.26  54235.33  54755.92  4163.431360   \n2021-10-07 08:00:00  54755.91  54778.91  54400.00  54538.30  2049.382180   \n2021-10-07 09:00:00  54538.31  54547.30  53786.13  53995.50  2739.153610   \n\n                      returns  \nDate                           \n2017-08-17 04:00:00       NaN  \n2017-08-17 05:00:00  0.001505  \n2017-08-17 06:00:00  0.002090  \n2017-08-17 07:00:00  0.005912  \n2017-08-17 08:00:00  0.002457  \n...                       ...  \n2021-10-07 05:00:00 -0.006146  \n2021-10-07 06:00:00 -0.003690  \n2021-10-07 07:00:00  0.004058  \n2021-10-07 08:00:00 -0.003982  \n2021-10-07 09:00:00 -0.010002  \n\n[36168 rows x 6 columns]",
      "text/html": "<div>\n<style scoped>\n    .dataframe tbody tr th:only-of-type {\n        vertical-align: middle;\n    }\n\n    .dataframe tbody tr th {\n        vertical-align: top;\n    }\n\n    .dataframe thead th {\n        text-align: right;\n    }\n</style>\n<table border=\"1\" class=\"dataframe\">\n  <thead>\n    <tr style=\"text-align: right;\">\n      <th></th>\n      <th>Open</th>\n      <th>High</th>\n      <th>Low</th>\n      <th>Close</th>\n      <th>Volume</th>\n      <th>returns</th>\n    </tr>\n    <tr>\n      <th>Date</th>\n      <th></th>\n      <th></th>\n      <th></th>\n      <th></th>\n      <th></th>\n      <th></th>\n    </tr>\n  </thead>\n  <tbody>\n    <tr>\n      <th>2017-08-17 04:00:00</th>\n      <td>4261.48</td>\n      <td>4313.62</td>\n      <td>4261.32</td>\n      <td>4308.83</td>\n      <td>47.181009</td>\n      <td>NaN</td>\n    </tr>\n    <tr>\n      <th>2017-08-17 05:00:00</th>\n      <td>4308.83</td>\n      <td>4328.69</td>\n      <td>4291.37</td>\n      <td>4315.32</td>\n      <td>23.234916</td>\n      <td>0.001505</td>\n    </tr>\n    <tr>\n      <th>2017-08-17 06:00:00</th>\n      <td>4330.29</td>\n      <td>4345.45</td>\n      <td>4309.37</td>\n      <td>4324.35</td>\n      <td>7.229691</td>\n      <td>0.002090</td>\n    </tr>\n    <tr>\n      <th>2017-08-17 07:00:00</th>\n      <td>4316.62</td>\n      <td>4349.99</td>\n      <td>4287.41</td>\n      <td>4349.99</td>\n      <td>4.443249</td>\n      <td>0.005912</td>\n    </tr>\n    <tr>\n      <th>2017-08-17 08:00:00</th>\n      <td>4333.32</td>\n      <td>4377.85</td>\n      <td>4333.32</td>\n      <td>4360.69</td>\n      <td>0.972807</td>\n      <td>0.002457</td>\n    </tr>\n    <tr>\n      <th>...</th>\n      <td>...</td>\n      <td>...</td>\n      <td>...</td>\n      <td>...</td>\n      <td>...</td>\n      <td>...</td>\n    </tr>\n    <tr>\n      <th>2021-10-07 05:00:00</th>\n      <td>55073.20</td>\n      <td>55073.21</td>\n      <td>54545.07</td>\n      <td>54735.76</td>\n      <td>2251.122020</td>\n      <td>-0.006146</td>\n    </tr>\n    <tr>\n      <th>2021-10-07 06:00:00</th>\n      <td>54735.77</td>\n      <td>54968.06</td>\n      <td>54375.83</td>\n      <td>54534.16</td>\n      <td>1783.004260</td>\n      <td>-0.003690</td>\n    </tr>\n    <tr>\n      <th>2021-10-07 07:00:00</th>\n      <td>54534.16</td>\n      <td>54793.26</td>\n      <td>54235.33</td>\n      <td>54755.92</td>\n      <td>4163.431360</td>\n      <td>0.004058</td>\n    </tr>\n    <tr>\n      <th>2021-10-07 08:00:00</th>\n      <td>54755.91</td>\n      <td>54778.91</td>\n      <td>54400.00</td>\n      <td>54538.30</td>\n      <td>2049.382180</td>\n      <td>-0.003982</td>\n    </tr>\n    <tr>\n      <th>2021-10-07 09:00:00</th>\n      <td>54538.31</td>\n      <td>54547.30</td>\n      <td>53786.13</td>\n      <td>53995.50</td>\n      <td>2739.153610</td>\n      <td>-0.010002</td>\n    </tr>\n  </tbody>\n</table>\n<p>36168 rows × 6 columns</p>\n</div>"
     },
     "execution_count": 28,
     "metadata": {},
     "output_type": "execute_result"
    }
   ],
   "source": [
    "tester.data"
   ]
  },
  {
   "cell_type": "code",
   "execution_count": 29,
   "id": "29431835",
   "metadata": {},
   "outputs": [
    {
     "name": "stdout",
     "output_type": "stream",
     "text": [
      "====================================================================================================\n",
      "SIMPLE PRICE & VOLUME STRATEGY | INSTRUMENT = BTCUSDT | THRESHOLDS = [-0.00781  0.00823], [-0.72895 -0.37604]\n",
      "----------------------------------------------------------------------------------------------------\n",
      "PERFORMANCE MEASURES:\n",
      "\n",
      "\n",
      "Multiple (Strategy):         2.524794\n",
      "Multiple (Buy-and-Hold):     12.53136\n",
      "--------------------------------------\n",
      "Out-/Underperformance:       -10.006566\n",
      "\n",
      "\n",
      "CAGR:                        0.250733\n",
      "Annualized Mean:             0.223736\n",
      "Annualized Std:              0.193351\n",
      "Sharpe Ratio:                1.296776\n",
      "====================================================================================================\n"
     ]
    }
   ],
   "source": [
    "tester.test_strategy(percentiles = (10, 90, 5, 20))"
   ]
  },
  {
   "cell_type": "code",
   "execution_count": 30,
   "id": "cd10b6c5",
   "metadata": {},
   "outputs": [
    {
     "data": {
      "text/plain": "<Figure size 864x576 with 1 Axes>",
      "image/png": "[encoded data removed]"
     },
     "metadata": {},
     "output_type": "display_data"
    }
   ],
   "source": [
    "tester.plot_results()"
   ]
  },
  {
   "cell_type": "code",
   "execution_count": 31,
   "id": "4f3fde89",
   "metadata": {},
   "outputs": [
    {
     "data": {
      "text/plain": "0.0    34916\n1.0     1232\n2.0       20\nName: trades, dtype: int64"
     },
     "execution_count": 31,
     "metadata": {},
     "output_type": "execute_result"
    }
   ],
   "source": [
    "tester.results.trades.value_counts()"
   ]
  },
  {
   "cell_type": "code",
   "execution_count": 32,
   "id": "6d18d886",
   "metadata": {},
   "outputs": [
    {
     "name": "stdout",
     "output_type": "stream",
     "text": [
      "Return_Perc: [4, 94] | Volume_Perc: [12, 18] | Sharpe: 1.80985\n",
      "====================================================================================================\n",
      "SIMPLE PRICE & VOLUME STRATEGY | INSTRUMENT = BTCUSDT | THRESHOLDS = [-0.01527  0.01168], [-0.5182  -0.40675]\n",
      "----------------------------------------------------------------------------------------------------\n",
      "PERFORMANCE MEASURES:\n",
      "\n",
      "\n",
      "Multiple (Strategy):         2.133081\n",
      "Multiple (Buy-and-Hold):     12.53136\n",
      "--------------------------------------\n",
      "Out-/Underperformance:       -10.398279\n",
      "\n",
      "\n",
      "CAGR:                        0.200819\n",
      "Annualized Mean:             0.183009\n",
      "Annualized Std:              0.110959\n",
      "Sharpe Ratio:                1.809846\n",
      "====================================================================================================\n"
     ]
    }
   ],
   "source": [
    "tester.optimize_strategy(return_low_range = (2, 20, 2),\n",
    "                         return_high_range = (80, 98, 2), \n",
    "                         vol_low_range = (0, 18, 2), \n",
    "                         vol_high_range = (18, 40, 2),\n",
    "                         metric = \"Sharpe\")"
   ]
  },
  {
   "cell_type": "code",
   "execution_count": 33,
   "id": "b0b3d38c",
   "metadata": {},
   "outputs": [
    {
     "data": {
      "text/plain": "<Figure size 864x576 with 1 Axes>",
      "image/png": "[encoded data removed]"
     },
     "metadata": {},
     "output_type": "display_data"
    }
   ],
   "source": [
    "tester.plot_results()"
   ]
  },
  {
   "cell_type": "code",
   "execution_count": 34,
   "id": "facdab40",
   "metadata": {},
   "outputs": [
    {
     "data": {
      "text/plain": "<Figure size 864x576 with 1 Axes>",
      "image/png": "[encoded data removed]"
     },
     "metadata": {},
     "output_type": "display_data"
    }
   ],
   "source": [
    "tester.results.cstrategy.plot(figsize = (12,8))\n",
    "plt.show()"
   ]
  },
  {
   "cell_type": "code",
   "execution_count": 35,
   "id": "3ae0a614",
   "metadata": {},
   "outputs": [
    {
     "data": {
      "text/plain": " 0    36053\n-1       91\n 1       24\nName: position, dtype: int64"
     },
     "execution_count": 35,
     "metadata": {},
     "output_type": "execute_result"
    }
   ],
   "source": [
    "tester.results.position.value_counts()"
   ]
  },
  {
   "cell_type": "code",
   "execution_count": 36,
   "id": "3a344312",
   "metadata": {},
   "outputs": [
    {
     "data": {
      "text/plain": "0.0    35939\n1.0      228\n2.0        1\nName: trades, dtype: int64"
     },
     "execution_count": 36,
     "metadata": {},
     "output_type": "execute_result"
    }
   ],
   "source": [
    "tester.results.trades.value_counts()"
   ]
  },
  {
   "cell_type": "code",
   "execution_count": 37,
   "id": "ca7d8b60",
   "metadata": {},
   "outputs": [
    {
     "name": "stdout",
     "output_type": "stream",
     "text": [
      "Return_Perc: [5, 94] | Volume_Perc: [12, 19] | Sharpe: 1.94716\n",
      "====================================================================================================\n",
      "SIMPLE PRICE & VOLUME STRATEGY | INSTRUMENT = BTCUSDT | THRESHOLDS = [-0.01319  0.01168], [-0.5182  -0.39196]\n",
      "----------------------------------------------------------------------------------------------------\n",
      "PERFORMANCE MEASURES:\n",
      "\n",
      "\n",
      "Multiple (Strategy):         2.349634\n",
      "Multiple (Buy-and-Hold):     12.53136\n",
      "--------------------------------------\n",
      "Out-/Underperformance:       -10.181726\n",
      "\n",
      "\n",
      "CAGR:                        0.229197\n",
      "Annualized Mean:             0.206367\n",
      "Annualized Std:              0.117708\n",
      "Sharpe Ratio:                1.947161\n",
      "====================================================================================================\n"
     ]
    }
   ],
   "source": [
    "tester.optimize_strategy(return_low_range = (2, 7, 1),\n",
    "                         return_high_range = (89, 99, 1), \n",
    "                         vol_low_range = (8, 14, 1), \n",
    "                         vol_high_range = (14, 22, 1),\n",
    "                         metric = \"Sharpe\")"
   ]
  },
  {
   "cell_type": "code",
   "execution_count": 38,
   "id": "1fe43dab",
   "metadata": {},
   "outputs": [
    {
     "data": {
      "text/plain": "<Figure size 864x576 with 1 Axes>",
      "image/png": "[encoded data removed]"
     },
     "metadata": {},
     "output_type": "display_data"
    }
   ],
   "source": [
    "tester.results.cstrategy.plot(figsize = (12,8))\n",
    "plt.show()"
   ]
  },
  {
   "cell_type": "markdown",
   "id": "e5a83b8b",
   "metadata": {},
   "source": [
    "## A Long-Short Trader Class"
   ]
  },
  {
   "cell_type": "markdown",
   "id": "7ffe956d",
   "metadata": {},
   "source": [
    "_Disclaimer: <br>\n",
    "The following illustrative examples are for general information and educational purposes only. <br>\n",
    "It is neither investment advice nor a recommendation to trade, invest or take whatsoever actions.<br>\n",
    "The below code should only be used in combination with the Binance Spot Testnet and NOT with a Live Trading Account._"
   ]
  },
  {
   "cell_type": "code",
   "execution_count": 41,
   "id": "62a19bc5",
   "metadata": {},
   "outputs": [],
   "source": [
    "from binance.client import Client\n",
    "from binance import ThreadedWebsocketManager\n",
    "import pandas as pd\n",
    "import numpy as np\n",
    "from datetime import datetime, timedelta\n",
    "import time\n",
    "from client import get_binance_test_client"
   ]
  },
  {
   "cell_type": "code",
   "execution_count": 42,
   "id": "10bcb6ee",
   "metadata": {},
   "outputs": [],
   "source": [
    "class LongShortTrader():\n",
    "    \n",
    "    def __init__(self, symbol, bar_length, return_thresh, volume_thresh, units, position = 0):\n",
    "        \n",
    "        self.symbol = symbol\n",
    "        self.bar_length = bar_length\n",
    "        self.available_intervals = [\"1m\", \"3m\", \"5m\", \"15m\", \"30m\", \"1h\", \"2h\", \"4h\", \"6h\", \"8h\", \"12h\", \"1d\", \"3d\", \"1w\", \"1M\"]\n",
    "        self.units = units\n",
    "        self.position = position\n",
    "        self.trades = 0 \n",
    "        self.trade_values = []\n",
    "        \n",
    "        #*****************add strategy-specific attributes here******************\n",
    "        self.return_thresh = return_thresh\n",
    "        self.volume_thresh = volume_thresh\n",
    "        #************************************************************************\n",
    "    \n",
    "    def start_trading(self, historical_days):\n",
    "        \n",
    "        self.twm = ThreadedWebsocketManager()\n",
    "        self.twm.start()\n",
    "        \n",
    "        if self.bar_length in self.available_intervals:\n",
    "            self.get_most_recent(symbol = self.symbol, interval = self.bar_length,\n",
    "                                 days = historical_days)\n",
    "            self.twm.start_kline_socket(callback = self.stream_candles,\n",
    "                                        symbol = self.symbol, interval = self.bar_length)\n",
    "        # \"else\" to be added later in the course \n",
    "    \n",
    "    def get_most_recent(self, symbol, interval, days):\n",
    "    \n",
    "        now = datetime.utcnow()\n",
    "        past = str(now - timedelta(days = days))\n",
    "    \n",
    "        bars = client.get_historical_klines(symbol = symbol, interval = interval,\n",
    "                                            start_str = past, end_str = None, limit = 1000)\n",
    "        df = pd.DataFrame(bars)\n",
    "        df[\"Date\"] = pd.to_datetime(df.iloc[:,0], unit = \"ms\")\n",
    "        df.columns = [\"Open Time\", \"Open\", \"High\", \"Low\", \"Close\", \"Volume\",\n",
    "                      \"Clos Time\", \"Quote Asset Volume\", \"Number of Trades\",\n",
    "                      \"Taker Buy Base Asset Volume\", \"Taker Buy Quote Asset Volume\", \"Ignore\", \"Date\"]\n",
    "        df = df[[\"Date\", \"Open\", \"High\", \"Low\", \"Close\", \"Volume\"]].copy()\n",
    "        df.set_index(\"Date\", inplace = True)\n",
    "        for column in df.columns:\n",
    "            df[column] = pd.to_numeric(df[column], errors = \"coerce\")\n",
    "        df[\"Complete\"] = [True for row in range(len(df)-1)] + [False]\n",
    "        \n",
    "        self.data = df\n",
    "    \n",
    "    def stream_candles(self, msg):\n",
    "        \n",
    "        # extract the required items from msg\n",
    "        event_time = pd.to_datetime(msg[\"E\"], unit = \"ms\")\n",
    "        start_time = pd.to_datetime(msg[\"k\"][\"t\"], unit = \"ms\")\n",
    "        first   = float(msg[\"k\"][\"o\"])\n",
    "        high    = float(msg[\"k\"][\"h\"])\n",
    "        low     = float(msg[\"k\"][\"l\"])\n",
    "        close   = float(msg[\"k\"][\"c\"])\n",
    "        volume  = float(msg[\"k\"][\"v\"])\n",
    "        complete=       msg[\"k\"][\"x\"]\n",
    "        \n",
    "        # stop trading session\n",
    "        if self.trades >= 5: # stop stream after 5 trades\n",
    "            self.twm.stop()\n",
    "            if self.position == 1:\n",
    "                order = client.create_order(symbol = self.symbol, side = \"SELL\", type = \"MARKET\", quantity = self.units)\n",
    "                self.report_trade(order, \"GOING NEUTRAL AND STOP\")\n",
    "                self.position = 0\n",
    "            elif self.position == -1:\n",
    "                order = client.create_order(symbol = self.symbol, side = \"BUY\", type = \"MARKET\", quantity = self.units)\n",
    "                self.report_trade(order, \"GOING NEUTRAL AND STOP\")\n",
    "                self.position = 0\n",
    "            else: \n",
    "                print(\"STOP\")\n",
    "    \n",
    "        # print out\n",
    "        print(\".\", end = \"\", flush = True) # just print something to get a feedback (everything OK) \n",
    "    \n",
    "        # feed df (add new bar / update latest bar)\n",
    "        self.data.loc[start_time] = [first, high, low, close, volume, complete]\n",
    "        \n",
    "        # prepare features and define strategy/trading positions whenever the latest bar is complete\n",
    "        if complete == True:\n",
    "            self.define_strategy()\n",
    "            self.execute_trades()\n",
    "        \n",
    "    def define_strategy(self):\n",
    "        \n",
    "        df = self.data.copy()\n",
    "        \n",
    "        #******************** define your strategy here ************************\n",
    "        df = df[[\"Close\", \"Volume\"]].copy()\n",
    "        df[\"returns\"] = np.log(df.Close / df.Close.shift())\n",
    "        df[\"vol_ch\"] = np.log(df.Volume.div(df.Volume.shift(1)))\n",
    "        df.loc[df.vol_ch > 3, \"vol_ch\"] = np.nan\n",
    "        df.loc[df.vol_ch < -3, \"vol_ch\"] = np.nan  \n",
    "        \n",
    "        cond1 = df.returns <= self.return_thresh[0]\n",
    "        cond2 = df.vol_ch.between(self.volume_thresh[0], self.volume_thresh[1])\n",
    "        cond3 = df.returns >= self.return_thresh[1]\n",
    "        \n",
    "        df[\"position\"] = 0\n",
    "        df.loc[cond1 & cond2, \"position\"] = 1\n",
    "        df.loc[cond3 & cond2, \"position\"] = -1\n",
    "        #***********************************************************************\n",
    "        \n",
    "        self.prepared_data = df.copy()\n",
    "    \n",
    "    def execute_trades(self): \n",
    "        if self.prepared_data[\"position\"].iloc[-1] == 1: # if position is long -> go/stay long\n",
    "            if self.position == 0:\n",
    "                order = client.create_order(symbol = self.symbol, side = \"BUY\", type = \"MARKET\", quantity = self.units)\n",
    "                self.report_trade(order, \"GOING LONG\")  \n",
    "            elif self.position == -1:\n",
    "                order = client.create_order(symbol = self.symbol, side = \"BUY\", type = \"MARKET\", quantity = self.units)\n",
    "                self.report_trade(order, \"GOING NEUTRAL\")\n",
    "                time.sleep(0.1)\n",
    "                order = client.create_order(symbol = self.symbol, side = \"BUY\", type = \"MARKET\", quantity = self.units)\n",
    "                self.report_trade(order, \"GOING LONG\")\n",
    "            self.position = 1\n",
    "        elif self.prepared_data[\"position\"].iloc[-1] == 0: # if position is neutral -> go/stay neutral\n",
    "            if self.position == 1:\n",
    "                order = client.create_order(symbol = self.symbol, side = \"SELL\", type = \"MARKET\", quantity = self.units)\n",
    "                self.report_trade(order, \"GOING NEUTRAL\") \n",
    "            elif self.position == -1:\n",
    "                order = client.create_order(symbol = self.symbol, side = \"BUY\", type = \"MARKET\", quantity = self.units)\n",
    "                self.report_trade(order, \"GOING NEUTRAL\") \n",
    "            self.position = 0\n",
    "        if self.prepared_data[\"position\"].iloc[-1] == -1: # if position is short -> go/stay short\n",
    "            if self.position == 0:\n",
    "                order = client.create_order(symbol = self.symbol, side = \"SELL\", type = \"MARKET\", quantity = self.units)\n",
    "                self.report_trade(order, \"GOING SHORT\") \n",
    "            elif self.position == 1:\n",
    "                order = client.create_order(symbol = self.symbol, side = \"SELL\", type = \"MARKET\", quantity = self.units)\n",
    "                self.report_trade(order, \"GOING NEUTRAL\")\n",
    "                time.sleep(0.1)\n",
    "                order = client.create_order(symbol = self.symbol, side = \"SELL\", type = \"MARKET\", quantity = self.units)\n",
    "                self.report_trade(order, \"GOING SHORT\")\n",
    "            self.position = -1\n",
    "    \n",
    "    def report_trade(self, order, going): \n",
    "        \n",
    "        # extract data from order object\n",
    "        side = order[\"side\"]\n",
    "        time = pd.to_datetime(order[\"transactTime\"], unit = \"ms\")\n",
    "        base_units = float(order[\"executedQty\"])\n",
    "        quote_units = float(order[\"cummulativeQuoteQty\"])\n",
    "        price = round(quote_units / base_units, 5)\n",
    "        \n",
    "        # calculate trading profits\n",
    "        self.trades += 1\n",
    "        if side == \"BUY\":\n",
    "            self.trade_values.append(-quote_units)\n",
    "        elif side == \"SELL\":\n",
    "            self.trade_values.append(quote_units) \n",
    "        \n",
    "        if self.trades % 2 == 0:\n",
    "            real_profit = round(np.sum(self.trade_values[-2:]), 3) \n",
    "            self.cum_profits = round(np.sum(self.trade_values), 3)\n",
    "        else: \n",
    "            real_profit = 0\n",
    "            self.cum_profits = round(np.sum(self.trade_values[:-1]), 3)\n",
    "        \n",
    "        # print trade report\n",
    "        print(2 * \"\\n\" + 100* \"-\")\n",
    "        print(\"{} | {}\".format(time, going)) \n",
    "        print(\"{} | Base_Units = {} | Quote_Units = {} | Price = {} \".format(time, base_units, quote_units, price))\n",
    "        print(\"{} | Profit = {} | CumProfits = {} \".format(time, real_profit, self.cum_profits))\n",
    "        print(100 * \"-\" + \"\\n\")"
   ]
  },
  {
   "cell_type": "code",
   "execution_count": 43,
   "id": "0be7e6f3",
   "metadata": {},
   "outputs": [],
   "source": [
    "api_key = \"insert here\"\n",
    "secret_key = \"insert here\""
   ]
  },
  {
   "cell_type": "code",
   "execution_count": 44,
   "id": "d1745c24",
   "metadata": {},
   "outputs": [],
   "source": [
    "client = get_binance_test_client()"
   ]
  },
  {
   "cell_type": "markdown",
   "id": "97b4cf58",
   "metadata": {},
   "source": [
    "For illustration purposes: a very dynamic Strategy (parameters) with many trades:"
   ]
  },
  {
   "cell_type": "code",
   "execution_count": 45,
   "id": "a37cb809",
   "metadata": {},
   "outputs": [],
   "source": [
    "symbol = \"BTCUSDT\"\n",
    "bar_length = \"1m\"\n",
    "return_thresh = [-0.0001, 0.0001]\n",
    "volume_thresh = [-3, 3]\n",
    "units = 0.01\n",
    "position = 0"
   ]
  },
  {
   "cell_type": "code",
   "execution_count": 46,
   "id": "cb769f89",
   "metadata": {},
   "outputs": [
    {
     "data": {
      "text/plain": "{'makerCommission': 0,\n 'takerCommission': 0,\n 'buyerCommission': 0,\n 'sellerCommission': 0,\n 'canTrade': True,\n 'canWithdraw': False,\n 'canDeposit': False,\n 'brokered': False,\n 'updateTime': 1660144440504,\n 'accountType': 'SPOT',\n 'balances': [{'asset': 'BNB',\n   'free': '1000.00000000',\n   'locked': '0.00000000'},\n  {'asset': 'BTC', 'free': '0.01000000', 'locked': '0.00000000'},\n  {'asset': 'BUSD', 'free': '10000.00000000', 'locked': '0.00000000'},\n  {'asset': 'ETH', 'free': '100.00000000', 'locked': '0.00000000'},\n  {'asset': 'LTC', 'free': '500.00000000', 'locked': '0.00000000'},\n  {'asset': 'TRX', 'free': '500000.00000000', 'locked': '0.00000000'},\n  {'asset': 'USDT', 'free': '32617.26269091', 'locked': '0.00000000'},\n  {'asset': 'XRP', 'free': '50000.00000000', 'locked': '0.00000000'}],\n 'permissions': ['SPOT']}"
     },
     "execution_count": 46,
     "metadata": {},
     "output_type": "execute_result"
    }
   ],
   "source": [
    "client.get_account()"
   ]
  },
  {
   "cell_type": "code",
   "execution_count": 47,
   "id": "c31b59a0",
   "metadata": {},
   "outputs": [],
   "source": [
    "trader = LongShortTrader(symbol = symbol, bar_length = bar_length, return_thresh = return_thresh,\n",
    "                        volume_thresh = volume_thresh, units = units, position = position)"
   ]
  },
  {
   "cell_type": "code",
   "execution_count": 48,
   "id": "56081644",
   "metadata": {},
   "outputs": [],
   "source": [
    "trader.start_trading(historical_days = 1/24)"
   ]
  },
  {
   "cell_type": "code",
   "execution_count": 49,
   "id": "dbef71f4",
   "metadata": {},
   "outputs": [
    {
     "data": {
      "text/plain": "                        Close      Volume   returns    vol_ch  position\nDate                                                                   \n2022-08-11 17:59:00  24342.31    5.023560       NaN       NaN         0\n2022-08-11 18:00:00  24337.20    5.688547 -0.000210  0.124316         1\n2022-08-11 18:01:00  24304.95    4.036618 -0.001326 -0.343048         1\n2022-08-11 18:02:00  24323.22    4.885517  0.000751  0.190868        -1\n2022-08-11 18:03:00  24285.02    5.024485 -0.001572  0.028048         1\n2022-08-11 18:04:00  24297.37    5.191064  0.000508  0.032616        -1\n2022-08-11 18:05:00  24298.55    4.888355  0.000049 -0.060083         0\n2022-08-11 18:06:00  24295.92    5.318639 -0.000108  0.084362         1\n2022-08-11 18:07:00  24303.93    5.336998  0.000330  0.003446        -1\n2022-08-11 18:08:00  24294.83    4.229317 -0.000374 -0.232623         1\n2022-08-11 18:09:00  24292.93    6.724276 -0.000078  0.463684         0\n2022-08-11 18:10:00  24282.56    5.677898 -0.000427 -0.169143         1\n2022-08-11 18:11:00  24253.32    7.427951 -0.001205  0.268669         1\n2022-08-11 18:12:00  24221.91    6.223941 -0.001296 -0.176847         1\n2022-08-11 18:13:00  24227.27    6.708257  0.000221  0.074936        -1\n2022-08-11 18:14:00  24199.29    6.627637 -0.001156 -0.012091         1\n2022-08-11 18:15:00  24185.42    7.238287 -0.000573  0.088136         1\n2022-08-11 18:16:00  24155.12    6.740053 -0.001254 -0.071317         1\n2022-08-11 18:17:00  24157.10    8.081247  0.000082  0.181478         0\n2022-08-11 18:18:00  24175.80    6.393599  0.000774 -0.234249        -1\n2022-08-11 18:19:00  24191.93    5.558873  0.000667 -0.139902        -1\n2022-08-11 18:20:00  24144.92    6.043049 -0.001945  0.083513         1\n2022-08-11 18:21:00  24115.67    6.474520 -0.001212  0.068966         1\n2022-08-11 18:22:00  24122.24    4.243894  0.000272 -0.422393        -1\n2022-08-11 18:23:00  24127.43    5.792574  0.000215  0.311096        -1\n2022-08-11 18:24:00  24151.54    6.145051  0.000999  0.059070        -1\n2022-08-11 18:25:00  24146.43    4.618059 -0.000212 -0.285673         1\n2022-08-11 18:26:00  24146.36    5.226554 -0.000003  0.123778         0\n2022-08-11 18:27:00  24171.03    6.244862  0.001021  0.178007        -1\n2022-08-11 18:28:00  24172.40    3.873350  0.000057 -0.477639         0\n2022-08-11 18:29:00  24196.90    6.395608  0.001013  0.501492        -1\n2022-08-11 18:30:00  24206.79    5.943890  0.000409 -0.073248        -1\n2022-08-11 18:31:00  24195.65    5.284660 -0.000460 -0.117556         1\n2022-08-11 18:32:00  24184.61    5.835390 -0.000456  0.099133         1\n2022-08-11 18:33:00  24180.37    5.490676 -0.000175 -0.060890         1\n2022-08-11 18:34:00  24183.07    5.336298  0.000112 -0.028519        -1\n2022-08-11 18:35:00  24176.08    5.299184 -0.000289 -0.006979         1\n2022-08-11 18:36:00  24194.04    6.732089  0.000743  0.239333        -1\n2022-08-11 18:37:00  24222.09    4.985141  0.001159 -0.300424        -1\n2022-08-11 18:38:00  24220.38    5.059376 -0.000071  0.014781         0\n2022-08-11 18:39:00  24223.12    4.705801  0.000113 -0.072447        -1\n2022-08-11 18:40:00  24206.07    5.355259 -0.000704  0.129283         1\n2022-08-11 18:41:00  24220.79    6.194565  0.000608  0.145593        -1\n2022-08-11 18:42:00  24209.54    4.449313 -0.000465 -0.330923         1\n2022-08-11 18:43:00  24203.66    5.870256 -0.000243  0.277149         1\n2022-08-11 18:44:00  24194.26    4.688507 -0.000388 -0.224784         1\n2022-08-11 18:45:00  24196.76    4.661202  0.000103 -0.005841        -1\n2022-08-11 18:46:00  24190.59    4.812576 -0.000255  0.031959         1\n2022-08-11 18:47:00  24187.48    4.830354 -0.000129  0.003687         1\n2022-08-11 18:48:00  24196.73    4.812315  0.000382 -0.003741        -1\n2022-08-11 18:49:00  24189.45    4.779048 -0.000301 -0.006937         1\n2022-08-11 18:50:00  24165.08    4.932830 -0.001008  0.031671         1\n2022-08-11 18:51:00  24156.16    4.385110 -0.000369 -0.117698         1\n2022-08-11 18:52:00  24125.16    5.862802 -0.001284  0.290413         1\n2022-08-11 18:53:00  24131.99    5.279249  0.000283 -0.104844        -1\n2022-08-11 18:54:00  24126.76    4.416134 -0.000217 -0.178519         1\n2022-08-11 18:55:00  24121.75    5.745088 -0.000208  0.263081         1\n2022-08-11 18:56:00  24120.63    4.190307 -0.000046 -0.315571         0\n2022-08-11 18:57:00  24132.62    6.025276  0.000497  0.363189        -1\n2022-08-11 18:58:00  24156.87  168.935530  0.001004       NaN         0",
      "text/html": "<div>\n<style scoped>\n    .dataframe tbody tr th:only-of-type {\n        vertical-align: middle;\n    }\n\n    .dataframe tbody tr th {\n        vertical-align: top;\n    }\n\n    .dataframe thead th {\n        text-align: right;\n    }\n</style>\n<table border=\"1\" class=\"dataframe\">\n  <thead>\n    <tr style=\"text-align: right;\">\n      <th></th>\n      <th>Close</th>\n      <th>Volume</th>\n      <th>returns</th>\n      <th>vol_ch</th>\n      <th>position</th>\n    </tr>\n    <tr>\n      <th>Date</th>\n      <th></th>\n      <th></th>\n      <th></th>\n      <th></th>\n      <th></th>\n    </tr>\n  </thead>\n  <tbody>\n    <tr>\n      <th>2022-08-11 17:59:00</th>\n      <td>24342.31</td>\n      <td>5.023560</td>\n      <td>NaN</td>\n      <td>NaN</td>\n      <td>0</td>\n    </tr>\n    <tr>\n      <th>2022-08-11 18:00:00</th>\n      <td>24337.20</td>\n      <td>5.688547</td>\n      <td>-0.000210</td>\n      <td>0.124316</td>\n      <td>1</td>\n    </tr>\n    <tr>\n      <th>2022-08-11 18:01:00</th>\n      <td>24304.95</td>\n      <td>4.036618</td>\n      <td>-0.001326</td>\n      <td>-0.343048</td>\n      <td>1</td>\n    </tr>\n    <tr>\n      <th>2022-08-11 18:02:00</th>\n      <td>24323.22</td>\n      <td>4.885517</td>\n      <td>0.000751</td>\n      <td>0.190868</td>\n      <td>-1</td>\n    </tr>\n    <tr>\n      <th>2022-08-11 18:03:00</th>\n      <td>24285.02</td>\n      <td>5.024485</td>\n      <td>-0.001572</td>\n      <td>0.028048</td>\n      <td>1</td>\n    </tr>\n    <tr>\n      <th>2022-08-11 18:04:00</th>\n      <td>24297.37</td>\n      <td>5.191064</td>\n      <td>0.000508</td>\n      <td>0.032616</td>\n      <td>-1</td>\n    </tr>\n    <tr>\n      <th>2022-08-11 18:05:00</th>\n      <td>24298.55</td>\n      <td>4.888355</td>\n      <td>0.000049</td>\n      <td>-0.060083</td>\n      <td>0</td>\n    </tr>\n    <tr>\n      <th>2022-08-11 18:06:00</th>\n      <td>24295.92</td>\n      <td>5.318639</td>\n      <td>-0.000108</td>\n      <td>0.084362</td>\n      <td>1</td>\n    </tr>\n    <tr>\n      <th>2022-08-11 18:07:00</th>\n      <td>24303.93</td>\n      <td>5.336998</td>\n      <td>0.000330</td>\n      <td>0.003446</td>\n      <td>-1</td>\n    </tr>\n    <tr>\n      <th>2022-08-11 18:08:00</th>\n      <td>24294.83</td>\n      <td>4.229317</td>\n      <td>-0.000374</td>\n      <td>-0.232623</td>\n      <td>1</td>\n    </tr>\n    <tr>\n      <th>2022-08-11 18:09:00</th>\n      <td>24292.93</td>\n      <td>6.724276</td>\n      <td>-0.000078</td>\n      <td>0.463684</td>\n      <td>0</td>\n    </tr>\n    <tr>\n      <th>2022-08-11 18:10:00</th>\n      <td>24282.56</td>\n      <td>5.677898</td>\n      <td>-0.000427</td>\n      <td>-0.169143</td>\n      <td>1</td>\n    </tr>\n    <tr>\n      <th>2022-08-11 18:11:00</th>\n      <td>24253.32</td>\n      <td>7.427951</td>\n      <td>-0.001205</td>\n      <td>0.268669</td>\n      <td>1</td>\n    </tr>\n    <tr>\n      <th>2022-08-11 18:12:00</th>\n      <td>24221.91</td>\n      <td>6.223941</td>\n      <td>-0.001296</td>\n      <td>-0.176847</td>\n      <td>1</td>\n    </tr>\n    <tr>\n      <th>2022-08-11 18:13:00</th>\n      <td>24227.27</td>\n      <td>6.708257</td>\n      <td>0.000221</td>\n      <td>0.074936</td>\n      <td>-1</td>\n    </tr>\n    <tr>\n      <th>2022-08-11 18:14:00</th>\n      <td>24199.29</td>\n      <td>6.627637</td>\n      <td>-0.001156</td>\n      <td>-0.012091</td>\n      <td>1</td>\n    </tr>\n    <tr>\n      <th>2022-08-11 18:15:00</th>\n      <td>24185.42</td>\n      <td>7.238287</td>\n      <td>-0.000573</td>\n      <td>0.088136</td>\n      <td>1</td>\n    </tr>\n    <tr>\n      <th>2022-08-11 18:16:00</th>\n      <td>24155.12</td>\n      <td>6.740053</td>\n      <td>-0.001254</td>\n      <td>-0.071317</td>\n      <td>1</td>\n    </tr>\n    <tr>\n      <th>2022-08-11 18:17:00</th>\n      <td>24157.10</td>\n      <td>8.081247</td>\n      <td>0.000082</td>\n      <td>0.181478</td>\n      <td>0</td>\n    </tr>\n    <tr>\n      <th>2022-08-11 18:18:00</th>\n      <td>24175.80</td>\n      <td>6.393599</td>\n      <td>0.000774</td>\n      <td>-0.234249</td>\n      <td>-1</td>\n    </tr>\n    <tr>\n      <th>2022-08-11 18:19:00</th>\n      <td>24191.93</td>\n      <td>5.558873</td>\n      <td>0.000667</td>\n      <td>-0.139902</td>\n      <td>-1</td>\n    </tr>\n    <tr>\n      <th>2022-08-11 18:20:00</th>\n      <td>24144.92</td>\n      <td>6.043049</td>\n      <td>-0.001945</td>\n      <td>0.083513</td>\n      <td>1</td>\n    </tr>\n    <tr>\n      <th>2022-08-11 18:21:00</th>\n      <td>24115.67</td>\n      <td>6.474520</td>\n      <td>-0.001212</td>\n      <td>0.068966</td>\n      <td>1</td>\n    </tr>\n    <tr>\n      <th>2022-08-11 18:22:00</th>\n      <td>24122.24</td>\n      <td>4.243894</td>\n      <td>0.000272</td>\n      <td>-0.422393</td>\n      <td>-1</td>\n    </tr>\n    <tr>\n      <th>2022-08-11 18:23:00</th>\n      <td>24127.43</td>\n      <td>5.792574</td>\n      <td>0.000215</td>\n      <td>0.311096</td>\n      <td>-1</td>\n    </tr>\n    <tr>\n      <th>2022-08-11 18:24:00</th>\n      <td>24151.54</td>\n      <td>6.145051</td>\n      <td>0.000999</td>\n      <td>0.059070</td>\n      <td>-1</td>\n    </tr>\n    <tr>\n      <th>2022-08-11 18:25:00</th>\n      <td>24146.43</td>\n      <td>4.618059</td>\n      <td>-0.000212</td>\n      <td>-0.285673</td>\n      <td>1</td>\n    </tr>\n    <tr>\n      <th>2022-08-11 18:26:00</th>\n      <td>24146.36</td>\n      <td>5.226554</td>\n      <td>-0.000003</td>\n      <td>0.123778</td>\n      <td>0</td>\n    </tr>\n    <tr>\n      <th>2022-08-11 18:27:00</th>\n      <td>24171.03</td>\n      <td>6.244862</td>\n      <td>0.001021</td>\n      <td>0.178007</td>\n      <td>-1</td>\n    </tr>\n    <tr>\n      <th>2022-08-11 18:28:00</th>\n      <td>24172.40</td>\n      <td>3.873350</td>\n      <td>0.000057</td>\n      <td>-0.477639</td>\n      <td>0</td>\n    </tr>\n    <tr>\n      <th>2022-08-11 18:29:00</th>\n      <td>24196.90</td>\n      <td>6.395608</td>\n      <td>0.001013</td>\n      <td>0.501492</td>\n      <td>-1</td>\n    </tr>\n    <tr>\n      <th>2022-08-11 18:30:00</th>\n      <td>24206.79</td>\n      <td>5.943890</td>\n      <td>0.000409</td>\n      <td>-0.073248</td>\n      <td>-1</td>\n    </tr>\n    <tr>\n      <th>2022-08-11 18:31:00</th>\n      <td>24195.65</td>\n      <td>5.284660</td>\n      <td>-0.000460</td>\n      <td>-0.117556</td>\n      <td>1</td>\n    </tr>\n    <tr>\n      <th>2022-08-11 18:32:00</th>\n      <td>24184.61</td>\n      <td>5.835390</td>\n      <td>-0.000456</td>\n      <td>0.099133</td>\n      <td>1</td>\n    </tr>\n    <tr>\n      <th>2022-08-11 18:33:00</th>\n      <td>24180.37</td>\n      <td>5.490676</td>\n      <td>-0.000175</td>\n      <td>-0.060890</td>\n      <td>1</td>\n    </tr>\n    <tr>\n      <th>2022-08-11 18:34:00</th>\n      <td>24183.07</td>\n      <td>5.336298</td>\n      <td>0.000112</td>\n      <td>-0.028519</td>\n      <td>-1</td>\n    </tr>\n    <tr>\n      <th>2022-08-11 18:35:00</th>\n      <td>24176.08</td>\n      <td>5.299184</td>\n      <td>-0.000289</td>\n      <td>-0.006979</td>\n      <td>1</td>\n    </tr>\n    <tr>\n      <th>2022-08-11 18:36:00</th>\n      <td>24194.04</td>\n      <td>6.732089</td>\n      <td>0.000743</td>\n      <td>0.239333</td>\n      <td>-1</td>\n    </tr>\n    <tr>\n      <th>2022-08-11 18:37:00</th>\n      <td>24222.09</td>\n      <td>4.985141</td>\n      <td>0.001159</td>\n      <td>-0.300424</td>\n      <td>-1</td>\n    </tr>\n    <tr>\n      <th>2022-08-11 18:38:00</th>\n      <td>24220.38</td>\n      <td>5.059376</td>\n      <td>-0.000071</td>\n      <td>0.014781</td>\n      <td>0</td>\n    </tr>\n    <tr>\n      <th>2022-08-11 18:39:00</th>\n      <td>24223.12</td>\n      <td>4.705801</td>\n      <td>0.000113</td>\n      <td>-0.072447</td>\n      <td>-1</td>\n    </tr>\n    <tr>\n      <th>2022-08-11 18:40:00</th>\n      <td>24206.07</td>\n      <td>5.355259</td>\n      <td>-0.000704</td>\n      <td>0.129283</td>\n      <td>1</td>\n    </tr>\n    <tr>\n      <th>2022-08-11 18:41:00</th>\n      <td>24220.79</td>\n      <td>6.194565</td>\n      <td>0.000608</td>\n      <td>0.145593</td>\n      <td>-1</td>\n    </tr>\n    <tr>\n      <th>2022-08-11 18:42:00</th>\n      <td>24209.54</td>\n      <td>4.449313</td>\n      <td>-0.000465</td>\n      <td>-0.330923</td>\n      <td>1</td>\n    </tr>\n    <tr>\n      <th>2022-08-11 18:43:00</th>\n      <td>24203.66</td>\n      <td>5.870256</td>\n      <td>-0.000243</td>\n      <td>0.277149</td>\n      <td>1</td>\n    </tr>\n    <tr>\n      <th>2022-08-11 18:44:00</th>\n      <td>24194.26</td>\n      <td>4.688507</td>\n      <td>-0.000388</td>\n      <td>-0.224784</td>\n      <td>1</td>\n    </tr>\n    <tr>\n      <th>2022-08-11 18:45:00</th>\n      <td>24196.76</td>\n      <td>4.661202</td>\n      <td>0.000103</td>\n      <td>-0.005841</td>\n      <td>-1</td>\n    </tr>\n    <tr>\n      <th>2022-08-11 18:46:00</th>\n      <td>24190.59</td>\n      <td>4.812576</td>\n      <td>-0.000255</td>\n      <td>0.031959</td>\n      <td>1</td>\n    </tr>\n    <tr>\n      <th>2022-08-11 18:47:00</th>\n      <td>24187.48</td>\n      <td>4.830354</td>\n      <td>-0.000129</td>\n      <td>0.003687</td>\n      <td>1</td>\n    </tr>\n    <tr>\n      <th>2022-08-11 18:48:00</th>\n      <td>24196.73</td>\n      <td>4.812315</td>\n      <td>0.000382</td>\n      <td>-0.003741</td>\n      <td>-1</td>\n    </tr>\n    <tr>\n      <th>2022-08-11 18:49:00</th>\n      <td>24189.45</td>\n      <td>4.779048</td>\n      <td>-0.000301</td>\n      <td>-0.006937</td>\n      <td>1</td>\n    </tr>\n    <tr>\n      <th>2022-08-11 18:50:00</th>\n      <td>24165.08</td>\n      <td>4.932830</td>\n      <td>-0.001008</td>\n      <td>0.031671</td>\n      <td>1</td>\n    </tr>\n    <tr>\n      <th>2022-08-11 18:51:00</th>\n      <td>24156.16</td>\n      <td>4.385110</td>\n      <td>-0.000369</td>\n      <td>-0.117698</td>\n      <td>1</td>\n    </tr>\n    <tr>\n      <th>2022-08-11 18:52:00</th>\n      <td>24125.16</td>\n      <td>5.862802</td>\n      <td>-0.001284</td>\n      <td>0.290413</td>\n      <td>1</td>\n    </tr>\n    <tr>\n      <th>2022-08-11 18:53:00</th>\n      <td>24131.99</td>\n      <td>5.279249</td>\n      <td>0.000283</td>\n      <td>-0.104844</td>\n      <td>-1</td>\n    </tr>\n    <tr>\n      <th>2022-08-11 18:54:00</th>\n      <td>24126.76</td>\n      <td>4.416134</td>\n      <td>-0.000217</td>\n      <td>-0.178519</td>\n      <td>1</td>\n    </tr>\n    <tr>\n      <th>2022-08-11 18:55:00</th>\n      <td>24121.75</td>\n      <td>5.745088</td>\n      <td>-0.000208</td>\n      <td>0.263081</td>\n      <td>1</td>\n    </tr>\n    <tr>\n      <th>2022-08-11 18:56:00</th>\n      <td>24120.63</td>\n      <td>4.190307</td>\n      <td>-0.000046</td>\n      <td>-0.315571</td>\n      <td>0</td>\n    </tr>\n    <tr>\n      <th>2022-08-11 18:57:00</th>\n      <td>24132.62</td>\n      <td>6.025276</td>\n      <td>0.000497</td>\n      <td>0.363189</td>\n      <td>-1</td>\n    </tr>\n    <tr>\n      <th>2022-08-11 18:58:00</th>\n      <td>24156.87</td>\n      <td>168.935530</td>\n      <td>0.001004</td>\n      <td>NaN</td>\n      <td>0</td>\n    </tr>\n  </tbody>\n</table>\n</div>"
     },
     "execution_count": 49,
     "metadata": {},
     "output_type": "execute_result"
    }
   ],
   "source": [
    "trader.prepared_data"
   ]
  },
  {
   "cell_type": "code",
   "execution_count": 50,
   "id": "74913a14",
   "metadata": {},
   "outputs": [
    {
     "name": "stdout",
     "output_type": "stream",
     "text": [
      "."
     ]
    },
    {
     "ename": "AttributeError",
     "evalue": "'LongShortTrader' object has no attribute 'cum_profits'",
     "output_type": "error",
     "traceback": [
      "\u001B[0;31m---------------------------------------------------------------------------\u001B[0m",
      "\u001B[0;31mAttributeError\u001B[0m                            Traceback (most recent call last)",
      "Input \u001B[0;32mIn [50]\u001B[0m, in \u001B[0;36m<cell line: 1>\u001B[0;34m()\u001B[0m\n\u001B[0;32m----> 1\u001B[0m \u001B[43mtrader\u001B[49m\u001B[38;5;241;43m.\u001B[39;49m\u001B[43mcum_profits\u001B[49m\n",
      "\u001B[0;31mAttributeError\u001B[0m: 'LongShortTrader' object has no attribute 'cum_profits'"
     ]
    }
   ],
   "source": [
    "trader.cum_profits"
   ]
  },
  {
   "cell_type": "code",
   "execution_count": 51,
   "id": "faaf4734",
   "metadata": {},
   "outputs": [
    {
     "name": "stdout",
     "output_type": "stream",
     "text": [
      "."
     ]
    },
    {
     "data": {
      "text/plain": "{'makerCommission': 0,\n 'takerCommission': 0,\n 'buyerCommission': 0,\n 'sellerCommission': 0,\n 'canTrade': True,\n 'canWithdraw': False,\n 'canDeposit': False,\n 'brokered': False,\n 'updateTime': 1660144440504,\n 'accountType': 'SPOT',\n 'balances': [{'asset': 'BNB',\n   'free': '1000.00000000',\n   'locked': '0.00000000'},\n  {'asset': 'BTC', 'free': '0.01000000', 'locked': '0.00000000'},\n  {'asset': 'BUSD', 'free': '10000.00000000', 'locked': '0.00000000'},\n  {'asset': 'ETH', 'free': '100.00000000', 'locked': '0.00000000'},\n  {'asset': 'LTC', 'free': '500.00000000', 'locked': '0.00000000'},\n  {'asset': 'TRX', 'free': '500000.00000000', 'locked': '0.00000000'},\n  {'asset': 'USDT', 'free': '32617.26269091', 'locked': '0.00000000'},\n  {'asset': 'XRP', 'free': '50000.00000000', 'locked': '0.00000000'}],\n 'permissions': ['SPOT']}"
     },
     "execution_count": 51,
     "metadata": {},
     "output_type": "execute_result"
    }
   ],
   "source": [
    "client.get_account()"
   ]
  },
  {
   "cell_type": "code",
   "execution_count": null,
   "id": "dc639ec4",
   "metadata": {},
   "outputs": [],
   "source": []
  }
 ],
 "metadata": {
  "kernelspec": {
   "display_name": "Python 3",
   "language": "python",
   "name": "python3"
  },
  "language_info": {
   "codemirror_mode": {
    "name": "ipython",
    "version": 3
   },
   "file_extension": ".py",
   "mimetype": "text/x-python",
   "name": "python",
   "nbconvert_exporter": "python",
   "pygments_lexer": "ipython3",
   "version": "3.8.5"
  }
 },
 "nbformat": 4,
 "nbformat_minor": 5
}